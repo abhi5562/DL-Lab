{
  "nbformat": 4,
  "nbformat_minor": 0,
  "metadata": {
    "colab": {
      "provenance": [],
      "gpuType": "T4"
    },
    "kernelspec": {
      "name": "python3",
      "display_name": "Python 3"
    },
    "language_info": {
      "name": "python"
    },
    "accelerator": "GPU"
  },
  "cells": [
    {
      "cell_type": "markdown",
      "source": [
        "# IMPORTING LIBRARIES"
      ],
      "metadata": {
        "id": "RZ9zlkOpZxOh"
      }
    },
    {
      "cell_type": "code",
      "execution_count": 99,
      "metadata": {
        "id": "nMlof2GSU2UM"
      },
      "outputs": [],
      "source": [
        "from tensorflow import keras\n",
        "from keras.models import Model, Sequential\n",
        "from keras.layers import Input, Dense\n",
        "from keras.datasets import mnist"
      ]
    },
    {
      "cell_type": "markdown",
      "source": [
        "# LOADING THE DATA"
      ],
      "metadata": {
        "id": "NhBwA6L5ZuNx"
      }
    },
    {
      "cell_type": "code",
      "source": [
        "(X_train,_), (X_test,_) = mnist.load_data()"
      ],
      "metadata": {
        "id": "3DAKqyz0ZnDd"
      },
      "execution_count": 100,
      "outputs": []
    },
    {
      "cell_type": "markdown",
      "source": [
        "# NORMALIZING THE PIXEL VALUES"
      ],
      "metadata": {
        "id": "iQ-dCDd9aDIW"
      }
    },
    {
      "cell_type": "code",
      "source": [
        "X_train = X_train / 255.0\n",
        "X_test = X_test / 255.0"
      ],
      "metadata": {
        "id": "zCvEL8N7Z0g5"
      },
      "execution_count": 101,
      "outputs": []
    },
    {
      "cell_type": "code",
      "source": [
        "X_train.shape"
      ],
      "metadata": {
        "colab": {
          "base_uri": "https://localhost:8080/"
        },
        "id": "7niGQslUajTd",
        "outputId": "fe3ac3f6-c198-42ca-86df-590265b92d47"
      },
      "execution_count": 102,
      "outputs": [
        {
          "output_type": "execute_result",
          "data": {
            "text/plain": [
              "(60000, 28, 28)"
            ]
          },
          "metadata": {},
          "execution_count": 102
        }
      ]
    },
    {
      "cell_type": "code",
      "source": [
        "X_test.shape"
      ],
      "metadata": {
        "colab": {
          "base_uri": "https://localhost:8080/"
        },
        "id": "dOfMA3tFalpv",
        "outputId": "b4cd10c8-3c66-4681-bfca-219998912cc2"
      },
      "execution_count": 103,
      "outputs": [
        {
          "output_type": "execute_result",
          "data": {
            "text/plain": [
              "(10000, 28, 28)"
            ]
          },
          "metadata": {},
          "execution_count": 103
        }
      ]
    },
    {
      "cell_type": "markdown",
      "source": [
        "# Flattening the images into 1-D arrays"
      ],
      "metadata": {
        "id": "A2AuGmVbaX1C"
      }
    },
    {
      "cell_type": "code",
      "source": [
        "X_train = X_train.reshape(X_train.shape[0], 784) # 28*28 = 784\n",
        "X_test = X_test.reshape(X_test.shape[0], 784)"
      ],
      "metadata": {
        "id": "7I9_sMHiaW77"
      },
      "execution_count": 104,
      "outputs": []
    },
    {
      "cell_type": "markdown",
      "source": [
        "# BUILDING THE AUTO-ENCODER MODEL"
      ],
      "metadata": {
        "id": "XdD9N1nca7sF"
      }
    },
    {
      "cell_type": "code",
      "source": [
        "input_img = Input(shape=(784,))\n",
        "\n",
        "encoded = Dense(32,activation='relu')(input_img)\n",
        "decoded = Dense(784,activation='sigmoid')(encoded)\n",
        "\n",
        "encoder_model = Model(input_img, encoded)\n",
        "decoder_model = Model(encoded,decoded)\n",
        "\n",
        "autoencoder = Sequential()\n",
        "autoencoder.add(encoder_model)\n",
        "autoencoder.add(decoder_model)"
      ],
      "metadata": {
        "id": "L3QUB02bawmy"
      },
      "execution_count": 105,
      "outputs": []
    },
    {
      "cell_type": "markdown",
      "source": [
        "# COMPILING THE Auto-Encoder Model"
      ],
      "metadata": {
        "id": "ycO5uhGAbvD5"
      }
    },
    {
      "cell_type": "code",
      "source": [
        "autoencoder.compile(loss='mean_squared_error',optimizer='adam')"
      ],
      "metadata": {
        "id": "v7m4Uinybs-p"
      },
      "execution_count": 106,
      "outputs": []
    },
    {
      "cell_type": "markdown",
      "source": [
        "# TRAINING THE AUTO-ENCODER MODEL"
      ],
      "metadata": {
        "id": "5UyR4DF3cOGD"
      }
    },
    {
      "cell_type": "code",
      "source": [
        "history = autoencoder.fit(X_train,X_train,epochs=10, validation_data=(X_test,X_test))"
      ],
      "metadata": {
        "colab": {
          "base_uri": "https://localhost:8080/"
        },
        "id": "DmI8Af4ucL5O",
        "outputId": "b4f09379-5c05-4e47-9745-c0dd21d47526"
      },
      "execution_count": 107,
      "outputs": [
        {
          "output_type": "stream",
          "name": "stdout",
          "text": [
            "Epoch 1/10\n",
            "1875/1875 [==============================] - 6s 3ms/step - loss: 0.0315 - val_loss: 0.0160\n",
            "Epoch 2/10\n",
            "1875/1875 [==============================] - 5s 2ms/step - loss: 0.0134 - val_loss: 0.0113\n",
            "Epoch 3/10\n",
            "1875/1875 [==============================] - 5s 3ms/step - loss: 0.0112 - val_loss: 0.0105\n",
            "Epoch 4/10\n",
            "1875/1875 [==============================] - 5s 3ms/step - loss: 0.0107 - val_loss: 0.0103\n",
            "Epoch 5/10\n",
            "1875/1875 [==============================] - 7s 4ms/step - loss: 0.0106 - val_loss: 0.0102\n",
            "Epoch 6/10\n",
            "1875/1875 [==============================] - 5s 2ms/step - loss: 0.0105 - val_loss: 0.0101\n",
            "Epoch 7/10\n",
            "1875/1875 [==============================] - 5s 3ms/step - loss: 0.0104 - val_loss: 0.0100\n",
            "Epoch 8/10\n",
            "1875/1875 [==============================] - 5s 3ms/step - loss: 0.0103 - val_loss: 0.0100\n",
            "Epoch 9/10\n",
            "1875/1875 [==============================] - 5s 3ms/step - loss: 0.0103 - val_loss: 0.0100\n",
            "Epoch 10/10\n",
            "1875/1875 [==============================] - 6s 3ms/step - loss: 0.0103 - val_loss: 0.0099\n"
          ]
        }
      ]
    },
    {
      "cell_type": "markdown",
      "source": [
        "# VISUALIZATION"
      ],
      "metadata": {
        "id": "xTqDvLzfeBkY"
      }
    },
    {
      "cell_type": "code",
      "source": [
        "import matplotlib.pyplot as plt\n",
        "\n",
        "plt.plot(history.history['loss'])\n",
        "plt.plot(history.history['val_loss'])\n",
        "plt.legend(['loss','val_loss'])\n",
        "plt.xlabel(\"Epochs\")\n",
        "plt.title(\"Variation of Loss as Epochs increase\")\n",
        "plt.show()"
      ],
      "metadata": {
        "colab": {
          "base_uri": "https://localhost:8080/",
          "height": 472
        },
        "id": "ieCw3vPEgs9c",
        "outputId": "483c5920-e161-48bb-80de-4da012740cf9"
      },
      "execution_count": 108,
      "outputs": [
        {
          "output_type": "display_data",
          "data": {
            "text/plain": [
              "<Figure size 640x480 with 1 Axes>"
            ],
            "image/png": "[encoded data removed]"
          },
          "metadata": {}
        }
      ]
    },
    {
      "cell_type": "code",
      "source": [
        "encoded_img = encoder_model.predict(X_test)\n",
        "decoded_img = decoder_model.predict(encoded_img)"
      ],
      "metadata": {
        "colab": {
          "base_uri": "https://localhost:8080/"
        },
        "id": "a-GDvs7vc8wV",
        "outputId": "76b2a7c4-3815-403f-a0a7-75fdc2a33a37"
      },
      "execution_count": 109,
      "outputs": [
        {
          "output_type": "stream",
          "name": "stdout",
          "text": [
            "313/313 [==============================] - 0s 1ms/step\n",
            "313/313 [==============================] - 0s 1ms/step\n"
          ]
        }
      ]
    },
    {
      "cell_type": "code",
      "source": [
        "print(\"Original Image\")\n",
        "plt.figure(figsize=(2,2))\n",
        "plt.imshow(X_test[10].reshape(28,28))\n",
        "plt.gray()\n",
        "plt.show()"
      ],
      "metadata": {
        "colab": {
          "base_uri": "https://localhost:8080/",
          "height": 235
        },
        "id": "q1tCCUjEeXEd",
        "outputId": "d915b939-e2fb-4a16-9600-6d78eb4985b4"
      },
      "execution_count": 110,
      "outputs": [
        {
          "output_type": "stream",
          "name": "stdout",
          "text": [
            "Original Image\n"
          ]
        },
        {
          "output_type": "display_data",
          "data": {
            "text/plain": [
              "<Figure size 200x200 with 1 Axes>"
            ],
            "image/png": "[encoded data removed]"
          },
          "metadata": {}
        }
      ]
    },
    {
      "cell_type": "code",
      "source": [
        "print(\"Encoded Image\")\n",
        "plt.figure(figsize=(2,2))\n",
        "plt.imshow(encoded_img[10].reshape(8,4))\n",
        "plt.gray()\n",
        "plt.show()"
      ],
      "metadata": {
        "colab": {
          "base_uri": "https://localhost:8080/",
          "height": 232
        },
        "id": "-DTcVbz1eizO",
        "outputId": "2a7aad83-9898-4470-857d-3bce06e0eb09"
      },
      "execution_count": 113,
      "outputs": [
        {
          "output_type": "stream",
          "name": "stdout",
          "text": [
            "Encoded Image\n"
          ]
        },
        {
          "output_type": "display_data",
          "data": {
            "text/plain": [
              "<Figure size 200x200 with 1 Axes>"
            ],
            "image/png": "[encoded data removed]"
          },
          "metadata": {}
        }
      ]
    },
    {
      "cell_type": "code",
      "source": [
        "print(\"Decoded Image\")\n",
        "plt.figure(figsize=(2,2))\n",
        "plt.imshow(decoded_img[10].reshape(28,28))\n",
        "plt.gray()\n",
        "plt.show()"
      ],
      "metadata": {
        "colab": {
          "base_uri": "https://localhost:8080/",
          "height": 235
        },
        "id": "zuFC_PQ4fH-i",
        "outputId": "05541c45-5450-4b7c-88f9-61a7e291acde"
      },
      "execution_count": 114,
      "outputs": [
        {
          "output_type": "stream",
          "name": "stdout",
          "text": [
            "Decoded Image\n"
          ]
        },
        {
          "output_type": "display_data",
          "data": {
            "text/plain": [
              "<Figure size 200x200 with 1 Axes>"
            ],
            "image/png": "[encoded data removed]"
          },
          "metadata": {}
        }
      ]
    }
  ]
}