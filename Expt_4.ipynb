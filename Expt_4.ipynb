{
  "nbformat": 4,
  "nbformat_minor": 0,
  "metadata": {
    "colab": {
      "provenance": [],
      "gpuType": "T4"
    },
    "kernelspec": {
      "name": "python3",
      "display_name": "Python 3"
    },
    "language_info": {
      "name": "python"
    },
    "accelerator": "GPU"
  },
  "cells": [
    {
      "cell_type": "markdown",
      "source": [
        "# IMPORTING LIBRARIES"
      ],
      "metadata": {
        "id": "aEUU8yx9tSBo"
      }
    },
    {
      "cell_type": "code",
      "source": [
        "from tensorflow import keras\n",
        "from keras.models import Sequential,Model\n",
        "from keras.layers import Input,Dense\n",
        "import numpy as np"
      ],
      "metadata": {
        "id": "dhiuGbw0nYMg"
      },
      "execution_count": 75,
      "outputs": []
    },
    {
      "cell_type": "markdown",
      "source": [
        "# LOADING THE DATA"
      ],
      "metadata": {
        "id": "i2zzY90btU36"
      }
    },
    {
      "cell_type": "code",
      "source": [
        "with np.load(r'/content/drive/MyDrive/Data/mnist_features.npz') as f:\n",
        "    X_train = f['x_train']\n",
        "    y_train = f['y_train']\n",
        "    X_test = f['x_test']\n",
        "    y_test = f['y_test']"
      ],
      "metadata": {
        "id": "cMFvJyKdnh-B"
      },
      "execution_count": 76,
      "outputs": []
    },
    {
      "cell_type": "code",
      "source": [
        "X_train.shape"
      ],
      "metadata": {
        "colab": {
          "base_uri": "https://localhost:8080/"
        },
        "id": "O4qQl7EHtcaf",
        "outputId": "73bea77e-fe46-473f-8c2e-5cc1400fc7d5"
      },
      "execution_count": 77,
      "outputs": [
        {
          "output_type": "execute_result",
          "data": {
            "text/plain": [
              "(60000, 28, 28)"
            ]
          },
          "metadata": {},
          "execution_count": 77
        }
      ]
    },
    {
      "cell_type": "code",
      "source": [
        "X_test.shape"
      ],
      "metadata": {
        "colab": {
          "base_uri": "https://localhost:8080/"
        },
        "id": "Ej0t8IfLtqRe",
        "outputId": "7159e8c2-b47f-425c-ace4-e436d02f3db7"
      },
      "execution_count": 78,
      "outputs": [
        {
          "output_type": "execute_result",
          "data": {
            "text/plain": [
              "(10000, 28, 28)"
            ]
          },
          "metadata": {},
          "execution_count": 78
        }
      ]
    },
    {
      "cell_type": "markdown",
      "source": [
        "# NORMALIZING THE PIXEL VALUES"
      ],
      "metadata": {
        "id": "TKsGdLwFtwRE"
      }
    },
    {
      "cell_type": "code",
      "source": [
        "X_train = X_train / 255.0\n",
        "X_test = X_test / 255.0"
      ],
      "metadata": {
        "id": "fTLAxjGkr-_n"
      },
      "execution_count": 79,
      "outputs": []
    },
    {
      "cell_type": "markdown",
      "source": [
        "# Flattening the images into 1-D arrays"
      ],
      "metadata": {
        "id": "tBtWpbO6t9MY"
      }
    },
    {
      "cell_type": "code",
      "source": [
        "X_train = X_train.reshape(X_train.shape[0],784)\n",
        "X_test = X_test.reshape(X_test.shape[0],784)"
      ],
      "metadata": {
        "id": "Z8AS0AOFt3eP"
      },
      "execution_count": 80,
      "outputs": []
    },
    {
      "cell_type": "markdown",
      "source": [
        "# BUILDING THE AUTO-ENCODER MODEL"
      ],
      "metadata": {
        "id": "yqie-Ak6uAuJ"
      }
    },
    {
      "cell_type": "code",
      "source": [
        "input_img = Input(shape=(784,))\n",
        "\n",
        "encoded = Dense(units=32,activation='relu')(input_img)\n",
        "decoded = Dense(units=784,activation='sigmoid')(encoded)\n",
        "\n",
        "encoded_model = Model(input_img,encoded)\n",
        "decoded_model = Model(encoded,decoded)\n",
        "\n",
        "autoencoder = Sequential()\n",
        "\n",
        "autoencoder.add(encoded_model)\n",
        "autoencoder.add(decoded_model)"
      ],
      "metadata": {
        "id": "CpYoQT7Eodjy"
      },
      "execution_count": 81,
      "outputs": []
    },
    {
      "cell_type": "markdown",
      "source": [
        "## COMPILING THE Auto-Encoder Model"
      ],
      "metadata": {
        "id": "CLoKdzueuLIm"
      }
    },
    {
      "cell_type": "code",
      "source": [
        "autoencoder.compile(loss='mean_squared_error',optimizer='adam')"
      ],
      "metadata": {
        "id": "7_rIGnEUozag"
      },
      "execution_count": 82,
      "outputs": []
    },
    {
      "cell_type": "markdown",
      "source": [
        "## TRAINING THE AUTO-ENCODER MODEL"
      ],
      "metadata": {
        "id": "UIFg5vAQuNzc"
      }
    },
    {
      "cell_type": "code",
      "source": [
        "history = autoencoder.fit(X_train,X_train, epochs=10, validation_data=(X_test,X_test))"
      ],
      "metadata": {
        "colab": {
          "base_uri": "https://localhost:8080/"
        },
        "id": "DRx6qvqYqoeD",
        "outputId": "650b7e05-6153-41db-a460-4518e012ff19"
      },
      "execution_count": 83,
      "outputs": [
        {
          "output_type": "stream",
          "name": "stdout",
          "text": [
            "Epoch 1/10\n",
            "1875/1875 [==============================] - 5s 3ms/step - loss: 0.0320 - val_loss: 0.0161\n",
            "Epoch 2/10\n",
            "1875/1875 [==============================] - 5s 3ms/step - loss: 0.0134 - val_loss: 0.0113\n",
            "Epoch 3/10\n",
            "1875/1875 [==============================] - 5s 3ms/step - loss: 0.0112 - val_loss: 0.0104\n",
            "Epoch 4/10\n",
            "1875/1875 [==============================] - 5s 3ms/step - loss: 0.0107 - val_loss: 0.0103\n",
            "Epoch 5/10\n",
            "1875/1875 [==============================] - 6s 3ms/step - loss: 0.0105 - val_loss: 0.0101\n",
            "Epoch 6/10\n",
            "1875/1875 [==============================] - 5s 3ms/step - loss: 0.0104 - val_loss: 0.0100\n",
            "Epoch 7/10\n",
            "1875/1875 [==============================] - 5s 3ms/step - loss: 0.0103 - val_loss: 0.0100\n",
            "Epoch 8/10\n",
            "1875/1875 [==============================] - 6s 3ms/step - loss: 0.0103 - val_loss: 0.0099\n",
            "Epoch 9/10\n",
            "1875/1875 [==============================] - 5s 3ms/step - loss: 0.0102 - val_loss: 0.0099\n",
            "Epoch 10/10\n",
            "1875/1875 [==============================] - 5s 3ms/step - loss: 0.0102 - val_loss: 0.0099\n"
          ]
        }
      ]
    },
    {
      "cell_type": "markdown",
      "source": [
        "# VISUALIZATION"
      ],
      "metadata": {
        "id": "9TgTPY3ouQuo"
      }
    },
    {
      "cell_type": "code",
      "source": [
        "import matplotlib.pyplot as plt\n",
        "\n",
        "plt.plot(history.history['loss'])\n",
        "plt.plot(history.history['val_loss'])\n",
        "plt.legend(['loss','val_loss'])\n",
        "plt.xlabel(\"Epochs\")\n",
        "plt.title(\"Variation of Loss as Epochs increase\")\n",
        "plt.show()"
      ],
      "metadata": {
        "colab": {
          "base_uri": "https://localhost:8080/",
          "height": 472
        },
        "id": "8BNcIcsZuHOW",
        "outputId": "c242815f-c926-4c5a-a2f8-50b3b705d488"
      },
      "execution_count": 84,
      "outputs": [
        {
          "output_type": "display_data",
          "data": {
            "text/plain": [
              "<Figure size 640x480 with 1 Axes>"
            ],
            "image/png": "[encoded data removed]"
          },
          "metadata": {}
        }
      ]
    },
    {
      "cell_type": "code",
      "source": [
        "encoded_img = encoded_model.predict(X_test)\n",
        "decoded_img = decoded_model.predict(encoded_img)"
      ],
      "metadata": {
        "colab": {
          "base_uri": "https://localhost:8080/"
        },
        "id": "s-uhdTocqw2L",
        "outputId": "e4353eb1-8b7a-4068-b108-395146e14586"
      },
      "execution_count": 85,
      "outputs": [
        {
          "output_type": "stream",
          "name": "stdout",
          "text": [
            "313/313 [==============================] - 1s 2ms/step\n",
            "313/313 [==============================] - 1s 2ms/step\n"
          ]
        }
      ]
    },
    {
      "cell_type": "code",
      "source": [
        "print(\"Original Image\")\n",
        "plt.figure(figsize=(2,2))\n",
        "plt.imshow(X_test[10].reshape(28,28))\n",
        "plt.gray()\n",
        "plt.show()"
      ],
      "metadata": {
        "colab": {
          "base_uri": "https://localhost:8080/",
          "height": 235
        },
        "id": "H10x_FrjsulD",
        "outputId": "30c383a5-e38e-46ef-8659-c0fdcd8a2239"
      },
      "execution_count": 86,
      "outputs": [
        {
          "output_type": "stream",
          "name": "stdout",
          "text": [
            "Original Image\n"
          ]
        },
        {
          "output_type": "display_data",
          "data": {
            "text/plain": [
              "<Figure size 200x200 with 1 Axes>"
            ],
            "image/png": "[encoded data removed]"
          },
          "metadata": {}
        }
      ]
    },
    {
      "cell_type": "code",
      "source": [
        "print(\"Encoded Image\")\n",
        "plt.figure(figsize=(2,2))\n",
        "plt.imshow(encoded_img[10].reshape(8,4))\n",
        "plt.gray()\n",
        "plt.show()"
      ],
      "metadata": {
        "colab": {
          "base_uri": "https://localhost:8080/",
          "height": 232
        },
        "id": "KB3Yw2_1s5_Q",
        "outputId": "5930fbe6-6c2d-4b33-d99f-cc5463765988"
      },
      "execution_count": 87,
      "outputs": [
        {
          "output_type": "stream",
          "name": "stdout",
          "text": [
            "Encoded Image\n"
          ]
        },
        {
          "output_type": "display_data",
          "data": {
            "text/plain": [
              "<Figure size 200x200 with 1 Axes>"
            ],
            "image/png": "[encoded data removed]"
          },
          "metadata": {}
        }
      ]
    },
    {
      "cell_type": "code",
      "source": [
        "print(\"Decoded Image\")\n",
        "plt.figure(figsize=(2,2))\n",
        "plt.imshow(decoded_img[10].reshape(28,28))\n",
        "plt.gray()\n",
        "plt.show()"
      ],
      "metadata": {
        "colab": {
          "base_uri": "https://localhost:8080/",
          "height": 235
        },
        "id": "KHkxyCD3s86m",
        "outputId": "dc58d6aa-0a04-407e-f38d-588f9340cb61"
      },
      "execution_count": 88,
      "outputs": [
        {
          "output_type": "stream",
          "name": "stdout",
          "text": [
            "Decoded Image\n"
          ]
        },
        {
          "output_type": "display_data",
          "data": {
            "text/plain": [
              "<Figure size 200x200 with 1 Axes>"
            ],
            "image/png": "[encoded data removed]"
          },
          "metadata": {}
        }
      ]
    }
  ]
}