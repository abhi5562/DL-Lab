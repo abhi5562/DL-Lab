{
  "nbformat": 4,
  "nbformat_minor": 0,
  "metadata": {
    "colab": {
      "provenance": [],
      "gpuType": "T4"
    },
    "kernelspec": {
      "name": "python3",
      "display_name": "Python 3"
    },
    "language_info": {
      "name": "python"
    },
    "accelerator": "GPU"
  },
  "cells": [
    {
      "cell_type": "code",
      "execution_count": 38,
      "metadata": {
        "id": "uoSj7fGe9fMx"
      },
      "outputs": [],
      "source": [
        "from tensorflow import keras\n",
        "from keras.models import Sequential\n",
        "from keras.layers import Dense, LSTM, Embedding\n",
        "from keras.preprocessing import sequence\n",
        "from keras.datasets import imdb"
      ]
    },
    {
      "cell_type": "code",
      "source": [
        "# Load the IMDb dataset with 10,000 most frequent words\n",
        "max_features = 10000\n",
        "\n",
        "#Max Length of sentence/sequence in the dataset\n",
        "maxlen = 500\n",
        "\n",
        "#Load the Dataset\n",
        "(X_train, y_train), (X_test, y_test) = imdb.load_data(num_words=max_features)"
      ],
      "metadata": {
        "id": "KlQfyL4rDEUj"
      },
      "execution_count": 39,
      "outputs": []
    },
    {
      "cell_type": "code",
      "source": [
        "# Pad sequences to a fixed length for input to the LSTM\n",
        "X_train = sequence.pad_sequences(X_train, maxlen=maxlen)\n",
        "X_test = sequence.pad_sequences(X_test, maxlen=maxlen)"
      ],
      "metadata": {
        "id": "-Pwwr4h7Dags"
      },
      "execution_count": 40,
      "outputs": []
    },
    {
      "cell_type": "markdown",
      "source": [
        "# MODEL BUILDING"
      ],
      "metadata": {
        "id": "pS9IF1S4D2QS"
      }
    },
    {
      "cell_type": "code",
      "source": [
        "model = Sequential()\n",
        "\n",
        "model.add(Embedding(max_features,32))\n",
        "model.add(LSTM(32))\n",
        "model.add(Dense(units=1,activation='sigmoid'))"
      ],
      "metadata": {
        "id": "7H2Yxhc1DzhZ"
      },
      "execution_count": 41,
      "outputs": []
    },
    {
      "cell_type": "markdown",
      "source": [
        "## MODEL COMPILATION"
      ],
      "metadata": {
        "id": "65wO4m1CEjjO"
      }
    },
    {
      "cell_type": "code",
      "source": [
        "model.compile(loss='binary_crossentropy',\n",
        "              optimizer='rmsprop',\n",
        "              metrics=['accuracy'])"
      ],
      "metadata": {
        "id": "t1pWDj9aEiOp"
      },
      "execution_count": 42,
      "outputs": []
    },
    {
      "cell_type": "markdown",
      "source": [
        "# MODEL TRAINING"
      ],
      "metadata": {
        "id": "dhkxtyUyExTt"
      }
    },
    {
      "cell_type": "code",
      "source": [
        "model.fit(X_train,y_train, epochs=10, batch_size=128, validation_data=(X_test,y_test))"
      ],
      "metadata": {
        "colab": {
          "base_uri": "https://localhost:8080/"
        },
        "id": "7qegM3WREwWM",
        "outputId": "b995e988-defa-432a-8647-f59bb10cea1e"
      },
      "execution_count": 43,
      "outputs": [
        {
          "output_type": "stream",
          "name": "stdout",
          "text": [
            "Epoch 1/10\n",
            "196/196 [==============================] - 20s 93ms/step - loss: 0.5377 - accuracy: 0.7212 - val_loss: 0.3711 - val_accuracy: 0.8456\n",
            "Epoch 2/10\n",
            "196/196 [==============================] - 13s 67ms/step - loss: 0.3171 - accuracy: 0.8726 - val_loss: 0.3058 - val_accuracy: 0.8746\n",
            "Epoch 3/10\n",
            "196/196 [==============================] - 11s 54ms/step - loss: 0.2566 - accuracy: 0.9006 - val_loss: 0.3447 - val_accuracy: 0.8686\n",
            "Epoch 4/10\n",
            "196/196 [==============================] - 9s 48ms/step - loss: 0.2183 - accuracy: 0.9172 - val_loss: 0.2879 - val_accuracy: 0.8820\n",
            "Epoch 5/10\n",
            "196/196 [==============================] - 9s 45ms/step - loss: 0.1950 - accuracy: 0.9271 - val_loss: 0.2983 - val_accuracy: 0.8778\n",
            "Epoch 6/10\n",
            "196/196 [==============================] - 9s 47ms/step - loss: 0.1752 - accuracy: 0.9359 - val_loss: 0.2978 - val_accuracy: 0.8813\n",
            "Epoch 7/10\n",
            "196/196 [==============================] - 7s 38ms/step - loss: 0.1624 - accuracy: 0.9407 - val_loss: 0.3573 - val_accuracy: 0.8752\n",
            "Epoch 8/10\n",
            "196/196 [==============================] - 6s 30ms/step - loss: 0.1467 - accuracy: 0.9474 - val_loss: 0.3269 - val_accuracy: 0.8777\n",
            "Epoch 9/10\n",
            "196/196 [==============================] - 7s 35ms/step - loss: 0.1353 - accuracy: 0.9520 - val_loss: 0.4060 - val_accuracy: 0.8570\n",
            "Epoch 10/10\n",
            "196/196 [==============================] - 6s 30ms/step - loss: 0.1214 - accuracy: 0.9602 - val_loss: 0.3898 - val_accuracy: 0.8692\n"
          ]
        },
        {
          "output_type": "execute_result",
          "data": {
            "text/plain": [
              "<keras.src.callbacks.History at 0x7ab40be50c40>"
            ]
          },
          "metadata": {},
          "execution_count": 43
        }
      ]
    },
    {
      "cell_type": "markdown",
      "source": [
        "# Sentiment Analysis of a new Review"
      ],
      "metadata": {
        "id": "gRU2oZS_FxiX"
      }
    },
    {
      "cell_type": "code",
      "source": [
        "# new_review = \"The movie is very nice\"\n",
        "new_review = \"The movie is not upto the mark\"\n",
        "\n",
        "word_index = imdb.get_word_index()\n",
        "\n",
        "new_review_indices = []\n",
        "for word in new_review.split():\n",
        "    if word in word_index and word_index[word] < max_features:\n",
        "        new_review_indices.append(word_index[word])\n",
        "    else:\n",
        "        new_review_indices.append(0)\n",
        "\n",
        "new_review_sequence = sequence.pad_sequences([new_review_indices], maxlen=maxlen)\n",
        "\n",
        "prediction = model.predict(new_review_sequence)\n",
        "sentiment = \"positive\" if prediction[0, 0] > 0.5 else \"negative\"\n",
        "print(f'The sentiment of the review is: {sentiment}')"
      ],
      "metadata": {
        "colab": {
          "base_uri": "https://localhost:8080/"
        },
        "id": "CHYoUCM4E8X6",
        "outputId": "257ee0c7-92b4-4315-d756-bc773dd060d8"
      },
      "execution_count": 65,
      "outputs": [
        {
          "output_type": "stream",
          "name": "stdout",
          "text": [
            "1/1 [==============================] - 0s 22ms/step\n",
            "The sentiment of the review is: negative\n"
          ]
        }
      ]
    },
    {
      "cell_type": "markdown",
      "source": [],
      "metadata": {
        "id": "zdeU4eAIHAg6"
      }
    }
  ]
}