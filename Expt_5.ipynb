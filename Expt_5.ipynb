{
  "nbformat": 4,
  "nbformat_minor": 0,
  "metadata": {
    "colab": {
      "provenance": [],
      "gpuType": "T4"
    },
    "kernelspec": {
      "name": "python3",
      "display_name": "Python 3"
    },
    "language_info": {
      "name": "python"
    },
    "accelerator": "GPU"
  },
  "cells": [
    {
      "cell_type": "code",
      "execution_count": 16,
      "metadata": {
        "id": "uoSj7fGe9fMx"
      },
      "outputs": [],
      "source": [
        "from tensorflow import keras\n",
        "from keras.models import Sequential\n",
        "from keras.layers import Dense, LSTM, Embedding\n",
        "from keras.preprocessing import sequence\n",
        "from keras.datasets import imdb\n",
        "import numpy as np"
      ]
    },
    {
      "cell_type": "code",
      "source": [
        "# Load the IMDb dataset with 10,000 most frequent words\n",
        "max_features = 10000\n",
        "\n",
        "#Max Length of sentence/sequence in the dataset\n",
        "maxlen = 500"
      ],
      "metadata": {
        "id": "KlQfyL4rDEUj"
      },
      "execution_count": 17,
      "outputs": []
    },
    {
      "cell_type": "code",
      "source": [
        "with np.load(r'/content/drive/MyDrive/Data/imdb_10000_features.npz',allow_pickle=True) as f:\n",
        "  X_train = f['x_train']\n",
        "  y_train = f['y_train']\n",
        "  X_test = f['x_test']\n",
        "  y_test = f['y_test']"
      ],
      "metadata": {
        "id": "mvvV16LSwBcX"
      },
      "execution_count": 18,
      "outputs": []
    },
    {
      "cell_type": "code",
      "source": [
        "# Pad sequences to a fixed length for input to the LSTM\n",
        "X_train = sequence.pad_sequences(X_train, maxlen=maxlen)\n",
        "X_test = sequence.pad_sequences(X_test, maxlen=maxlen)"
      ],
      "metadata": {
        "id": "-Pwwr4h7Dags"
      },
      "execution_count": 19,
      "outputs": []
    },
    {
      "cell_type": "markdown",
      "source": [
        "# MODEL BUILDING"
      ],
      "metadata": {
        "id": "pS9IF1S4D2QS"
      }
    },
    {
      "cell_type": "code",
      "source": [
        "model = Sequential()\n",
        "\n",
        "model.add(Embedding(max_features,32))\n",
        "model.add(LSTM(32))\n",
        "model.add(Dense(units=1,activation='sigmoid'))"
      ],
      "metadata": {
        "id": "7H2Yxhc1DzhZ"
      },
      "execution_count": 20,
      "outputs": []
    },
    {
      "cell_type": "markdown",
      "source": [
        "## MODEL COMPILATION"
      ],
      "metadata": {
        "id": "65wO4m1CEjjO"
      }
    },
    {
      "cell_type": "code",
      "source": [
        "model.compile(loss='binary_crossentropy',\n",
        "              optimizer='rmsprop',\n",
        "              metrics=['accuracy'])"
      ],
      "metadata": {
        "id": "t1pWDj9aEiOp"
      },
      "execution_count": 21,
      "outputs": []
    },
    {
      "cell_type": "markdown",
      "source": [
        "# MODEL TRAINING"
      ],
      "metadata": {
        "id": "dhkxtyUyExTt"
      }
    },
    {
      "cell_type": "code",
      "source": [
        "model.fit(X_train,y_train, epochs=10, batch_size=128, validation_data=(X_test,y_test))"
      ],
      "metadata": {
        "colab": {
          "base_uri": "https://localhost:8080/"
        },
        "id": "7qegM3WREwWM",
        "outputId": "9d869984-02fb-4782-d162-40e3f288a9c0"
      },
      "execution_count": 22,
      "outputs": [
        {
          "output_type": "stream",
          "name": "stdout",
          "text": [
            "Epoch 1/10\n",
            "196/196 [==============================] - 20s 95ms/step - loss: 0.5828 - accuracy: 0.6822 - val_loss: 0.4978 - val_accuracy: 0.7550\n",
            "Epoch 2/10\n",
            "196/196 [==============================] - 14s 73ms/step - loss: 0.3388 - accuracy: 0.8612 - val_loss: 0.5469 - val_accuracy: 0.8192\n",
            "Epoch 3/10\n",
            "196/196 [==============================] - 12s 59ms/step - loss: 0.2700 - accuracy: 0.8979 - val_loss: 0.3313 - val_accuracy: 0.8714\n",
            "Epoch 4/10\n",
            "196/196 [==============================] - 10s 51ms/step - loss: 0.2346 - accuracy: 0.9112 - val_loss: 0.3282 - val_accuracy: 0.8589\n",
            "Epoch 5/10\n",
            "196/196 [==============================] - 10s 50ms/step - loss: 0.2072 - accuracy: 0.9225 - val_loss: 0.3746 - val_accuracy: 0.8510\n",
            "Epoch 6/10\n",
            "196/196 [==============================] - 8s 41ms/step - loss: 0.1911 - accuracy: 0.9315 - val_loss: 0.3233 - val_accuracy: 0.8676\n",
            "Epoch 7/10\n",
            "196/196 [==============================] - 8s 40ms/step - loss: 0.1685 - accuracy: 0.9402 - val_loss: 0.3149 - val_accuracy: 0.8736\n",
            "Epoch 8/10\n",
            "196/196 [==============================] - 10s 52ms/step - loss: 0.1581 - accuracy: 0.9436 - val_loss: 0.3542 - val_accuracy: 0.8647\n",
            "Epoch 9/10\n",
            "196/196 [==============================] - 7s 34ms/step - loss: 0.1491 - accuracy: 0.9506 - val_loss: 0.4203 - val_accuracy: 0.8574\n",
            "Epoch 10/10\n",
            "196/196 [==============================] - 9s 45ms/step - loss: 0.1429 - accuracy: 0.9520 - val_loss: 0.3327 - val_accuracy: 0.8700\n"
          ]
        },
        {
          "output_type": "execute_result",
          "data": {
            "text/plain": [
              "<keras.src.callbacks.History at 0x7dd6e5318730>"
            ]
          },
          "metadata": {},
          "execution_count": 22
        }
      ]
    },
    {
      "cell_type": "markdown",
      "source": [
        "# Sentiment Analysis of a new Review"
      ],
      "metadata": {
        "id": "gRU2oZS_FxiX"
      }
    },
    {
      "cell_type": "code",
      "source": [
        "import json\n",
        "with open(r'/content/drive/MyDrive/Data/imdb_word_index.json') as f:\n",
        "  word_index = json.load(f)"
      ],
      "metadata": {
        "id": "qT1hxcE31Vps"
      },
      "execution_count": 23,
      "outputs": []
    },
    {
      "cell_type": "code",
      "source": [
        "# new_review = \"The movie is very nice\"\n",
        "new_review = \"The movie is not upto the mark\"\n",
        "\n",
        "new_review_indices = []\n",
        "for word in new_review.split():\n",
        "    if word in word_index and word_index[word] < max_features:\n",
        "        new_review_indices.append(word_index[word])\n",
        "    else:\n",
        "        new_review_indices.append(0)\n",
        "\n",
        "new_review_sequence = sequence.pad_sequences([new_review_indices], maxlen=maxlen)\n",
        "\n",
        "prediction = model.predict(new_review_sequence)\n",
        "sentiment = \"positive\" if prediction[0, 0] > 0.5 else \"negative\"\n",
        "print(f'The sentiment of the review is: {sentiment}')"
      ],
      "metadata": {
        "colab": {
          "base_uri": "https://localhost:8080/"
        },
        "id": "CHYoUCM4E8X6",
        "outputId": "ba9d3453-1af1-48db-82eb-0e94c145ed9b"
      },
      "execution_count": 25,
      "outputs": [
        {
          "output_type": "stream",
          "name": "stdout",
          "text": [
            "1/1 [==============================] - 0s 57ms/step\n",
            "The sentiment of the review is: negative\n"
          ]
        }
      ]
    },
    {
      "cell_type": "markdown",
      "source": [],
      "metadata": {
        "id": "zdeU4eAIHAg6"
      }
    }
  ]
}